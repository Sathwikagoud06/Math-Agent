{
  "cells": [
    {
      "cell_type": "markdown",
      "metadata": {
        "id": "view-in-github",
        "colab_type": "text"
      },
      "source": [
        "<a href=\"https://colab.research.google.com/github/Sathwikagoud06/Math-Agent/blob/main/Math_Agent__AI__Planet.ipynb\" target=\"_parent\"><img src=\"https://colab.research.google.com/assets/colab-badge.svg\" alt=\"Open In Colab\"/></a>"
      ]
    },
    {
      "cell_type": "code",
      "execution_count": null,
      "metadata": {
        "id": "m6BCuQYEyhsd",
        "colab": {
          "base_uri": "https://localhost:8080/"
        },
        "outputId": "33e270c3-4f57-41d5-a2c6-f9b152ccfb79"
      },
      "outputs": [
        {
          "output_type": "stream",
          "name": "stdout",
          "text": [
            "Requirement already satisfied: langchain in /usr/local/lib/python3.11/dist-packages (0.3.25)\n",
            "Requirement already satisfied: qdrant-client in /usr/local/lib/python3.11/dist-packages (1.14.2)\n",
            "Requirement already satisfied: sentence-transformers in /usr/local/lib/python3.11/dist-packages (4.1.0)\n",
            "Requirement already satisfied: sympy in /usr/local/lib/python3.11/dist-packages (1.13.1)\n",
            "Requirement already satisfied: streamlit in /usr/local/lib/python3.11/dist-packages (1.45.1)\n",
            "Requirement already satisfied: dspy in /usr/local/lib/python3.11/dist-packages (2.6.23)\n",
            "Requirement already satisfied: tavily-python in /usr/local/lib/python3.11/dist-packages (0.7.2)\n",
            "Requirement already satisfied: openai in /usr/local/lib/python3.11/dist-packages (1.75.0)\n",
            "Requirement already satisfied: langchain-core<1.0.0,>=0.3.58 in /usr/local/lib/python3.11/dist-packages (from langchain) (0.3.59)\n",
            "Requirement already satisfied: langchain-text-splitters<1.0.0,>=0.3.8 in /usr/local/lib/python3.11/dist-packages (from langchain) (0.3.8)\n",
            "Requirement already satisfied: langsmith<0.4,>=0.1.17 in /usr/local/lib/python3.11/dist-packages (from langchain) (0.3.42)\n",
            "Requirement already satisfied: pydantic<3.0.0,>=2.7.4 in /usr/local/lib/python3.11/dist-packages (from langchain) (2.11.4)\n",
            "Requirement already satisfied: SQLAlchemy<3,>=1.4 in /usr/local/lib/python3.11/dist-packages (from langchain) (2.0.40)\n",
            "Requirement already satisfied: requests<3,>=2 in /usr/local/lib/python3.11/dist-packages (from langchain) (2.32.3)\n",
            "Requirement already satisfied: PyYAML>=5.3 in /usr/local/lib/python3.11/dist-packages (from langchain) (6.0.2)\n",
            "Requirement already satisfied: grpcio>=1.41.0 in /usr/local/lib/python3.11/dist-packages (from qdrant-client) (1.71.0)\n",
            "Requirement already satisfied: httpx>=0.20.0 in /usr/local/lib/python3.11/dist-packages (from httpx[http2]>=0.20.0->qdrant-client) (0.28.1)\n",
            "Requirement already satisfied: numpy>=1.21 in /usr/local/lib/python3.11/dist-packages (from qdrant-client) (2.0.2)\n",
            "Requirement already satisfied: portalocker<3.0.0,>=2.7.0 in /usr/local/lib/python3.11/dist-packages (from qdrant-client) (2.10.1)\n",
            "Requirement already satisfied: protobuf>=3.20.0 in /usr/local/lib/python3.11/dist-packages (from qdrant-client) (5.29.4)\n",
            "Requirement already satisfied: urllib3<3,>=1.26.14 in /usr/local/lib/python3.11/dist-packages (from qdrant-client) (2.4.0)\n",
            "Requirement already satisfied: transformers<5.0.0,>=4.41.0 in /usr/local/lib/python3.11/dist-packages (from sentence-transformers) (4.51.3)\n",
            "Requirement already satisfied: tqdm in /usr/local/lib/python3.11/dist-packages (from sentence-transformers) (4.67.1)\n",
            "Requirement already satisfied: torch>=1.11.0 in /usr/local/lib/python3.11/dist-packages (from sentence-transformers) (2.6.0+cu124)\n",
            "Requirement already satisfied: scikit-learn in /usr/local/lib/python3.11/dist-packages (from sentence-transformers) (1.6.1)\n",
            "Requirement already satisfied: scipy in /usr/local/lib/python3.11/dist-packages (from sentence-transformers) (1.15.3)\n",
            "Requirement already satisfied: huggingface-hub>=0.20.0 in /usr/local/lib/python3.11/dist-packages (from sentence-transformers) (0.31.2)\n",
            "Requirement already satisfied: Pillow in /usr/local/lib/python3.11/dist-packages (from sentence-transformers) (11.2.1)\n",
            "Requirement already satisfied: typing_extensions>=4.5.0 in /usr/local/lib/python3.11/dist-packages (from sentence-transformers) (4.13.2)\n",
            "Requirement already satisfied: mpmath<1.4,>=1.1.0 in /usr/local/lib/python3.11/dist-packages (from sympy) (1.3.0)\n",
            "Requirement already satisfied: altair<6,>=4.0 in /usr/local/lib/python3.11/dist-packages (from streamlit) (5.5.0)\n",
            "Requirement already satisfied: blinker<2,>=1.5.0 in /usr/local/lib/python3.11/dist-packages (from streamlit) (1.9.0)\n",
            "Requirement already satisfied: cachetools<6,>=4.0 in /usr/local/lib/python3.11/dist-packages (from streamlit) (5.5.2)\n",
            "Requirement already satisfied: click<9,>=7.0 in /usr/local/lib/python3.11/dist-packages (from streamlit) (8.2.0)\n",
            "Requirement already satisfied: packaging<25,>=20 in /usr/local/lib/python3.11/dist-packages (from streamlit) (24.2)\n",
            "Requirement already satisfied: pandas<3,>=1.4.0 in /usr/local/lib/python3.11/dist-packages (from streamlit) (2.2.2)\n",
            "Requirement already satisfied: pyarrow>=7.0 in /usr/local/lib/python3.11/dist-packages (from streamlit) (18.1.0)\n",
            "Requirement already satisfied: tenacity<10,>=8.1.0 in /usr/local/lib/python3.11/dist-packages (from streamlit) (9.1.2)\n",
            "Requirement already satisfied: toml<2,>=0.10.1 in /usr/local/lib/python3.11/dist-packages (from streamlit) (0.10.2)\n",
            "Requirement already satisfied: watchdog<7,>=2.1.5 in /usr/local/lib/python3.11/dist-packages (from streamlit) (6.0.0)\n",
            "Requirement already satisfied: gitpython!=3.1.19,<4,>=3.0.7 in /usr/local/lib/python3.11/dist-packages (from streamlit) (3.1.44)\n",
            "Requirement already satisfied: pydeck<1,>=0.8.0b4 in /usr/local/lib/python3.11/dist-packages (from streamlit) (0.9.1)\n",
            "Requirement already satisfied: tornado<7,>=6.0.3 in /usr/local/lib/python3.11/dist-packages (from streamlit) (6.4.2)\n",
            "Requirement already satisfied: backoff>=2.2 in /usr/local/lib/python3.11/dist-packages (from dspy) (2.2.1)\n",
            "Requirement already satisfied: joblib~=1.3 in /usr/local/lib/python3.11/dist-packages (from dspy) (1.5.0)\n",
            "Requirement already satisfied: regex>=2023.10.3 in /usr/local/lib/python3.11/dist-packages (from dspy) (2024.11.6)\n",
            "Requirement already satisfied: ujson>=5.8.0 in /usr/local/lib/python3.11/dist-packages (from dspy) (5.10.0)\n",
            "Requirement already satisfied: datasets>=2.14.6 in /usr/local/lib/python3.11/dist-packages (from dspy) (3.6.0)\n",
            "Requirement already satisfied: optuna>=3.4.0 in /usr/local/lib/python3.11/dist-packages (from dspy) (4.3.0)\n",
            "Requirement already satisfied: magicattr>=0.1.6 in /usr/local/lib/python3.11/dist-packages (from dspy) (0.1.6)\n",
            "Requirement already satisfied: litellm>=1.60.3 in /usr/local/lib/python3.11/dist-packages (from dspy) (1.69.3)\n",
            "Requirement already satisfied: diskcache>=5.6.0 in /usr/local/lib/python3.11/dist-packages (from dspy) (5.6.3)\n",
            "Requirement already satisfied: json-repair>=0.30.0 in /usr/local/lib/python3.11/dist-packages (from dspy) (0.44.1)\n",
            "Requirement already satisfied: anyio in /usr/local/lib/python3.11/dist-packages (from dspy) (4.9.0)\n",
            "Requirement already satisfied: asyncer==0.0.8 in /usr/local/lib/python3.11/dist-packages (from dspy) (0.0.8)\n",
            "Requirement already satisfied: cloudpickle>=3.0.0 in /usr/local/lib/python3.11/dist-packages (from dspy) (3.1.1)\n",
            "Requirement already satisfied: rich>=13.7.1 in /usr/local/lib/python3.11/dist-packages (from dspy) (13.9.4)\n",
            "Requirement already satisfied: tiktoken>=0.5.1 in /usr/local/lib/python3.11/dist-packages (from tavily-python) (0.9.0)\n",
            "Requirement already satisfied: distro<2,>=1.7.0 in /usr/local/lib/python3.11/dist-packages (from openai) (1.9.0)\n",
            "Requirement already satisfied: jiter<1,>=0.4.0 in /usr/local/lib/python3.11/dist-packages (from openai) (0.9.0)\n",
            "Requirement already satisfied: sniffio in /usr/local/lib/python3.11/dist-packages (from openai) (1.3.1)\n",
            "Requirement already satisfied: jinja2 in /usr/local/lib/python3.11/dist-packages (from altair<6,>=4.0->streamlit) (3.1.6)\n",
            "Requirement already satisfied: jsonschema>=3.0 in /usr/local/lib/python3.11/dist-packages (from altair<6,>=4.0->streamlit) (4.23.0)\n",
            "Requirement already satisfied: narwhals>=1.14.2 in /usr/local/lib/python3.11/dist-packages (from altair<6,>=4.0->streamlit) (1.39.0)\n",
            "Requirement already satisfied: idna>=2.8 in /usr/local/lib/python3.11/dist-packages (from anyio->dspy) (3.10)\n",
            "Requirement already satisfied: filelock in /usr/local/lib/python3.11/dist-packages (from datasets>=2.14.6->dspy) (3.18.0)\n",
            "Requirement already satisfied: dill<0.3.9,>=0.3.0 in /usr/local/lib/python3.11/dist-packages (from datasets>=2.14.6->dspy) (0.3.7)\n",
            "Requirement already satisfied: xxhash in /usr/local/lib/python3.11/dist-packages (from datasets>=2.14.6->dspy) (3.5.0)\n",
            "Requirement already satisfied: multiprocess<0.70.17 in /usr/local/lib/python3.11/dist-packages (from datasets>=2.14.6->dspy) (0.70.15)\n",
            "Requirement already satisfied: fsspec<=2025.3.0,>=2023.1.0 in /usr/local/lib/python3.11/dist-packages (from fsspec[http]<=2025.3.0,>=2023.1.0->datasets>=2.14.6->dspy) (2025.3.0)\n",
            "Requirement already satisfied: gitdb<5,>=4.0.1 in /usr/local/lib/python3.11/dist-packages (from gitpython!=3.1.19,<4,>=3.0.7->streamlit) (4.0.12)\n",
            "Requirement already satisfied: certifi in /usr/local/lib/python3.11/dist-packages (from httpx>=0.20.0->httpx[http2]>=0.20.0->qdrant-client) (2025.4.26)\n",
            "Requirement already satisfied: httpcore==1.* in /usr/local/lib/python3.11/dist-packages (from httpx>=0.20.0->httpx[http2]>=0.20.0->qdrant-client) (1.0.9)\n",
            "Requirement already satisfied: h11>=0.16 in /usr/local/lib/python3.11/dist-packages (from httpcore==1.*->httpx>=0.20.0->httpx[http2]>=0.20.0->qdrant-client) (0.16.0)\n",
            "Requirement already satisfied: h2<5,>=3 in /usr/local/lib/python3.11/dist-packages (from httpx[http2]>=0.20.0->qdrant-client) (4.2.0)\n",
            "Requirement already satisfied: jsonpatch<2.0,>=1.33 in /usr/local/lib/python3.11/dist-packages (from langchain-core<1.0.0,>=0.3.58->langchain) (1.33)\n",
            "Requirement already satisfied: orjson<4.0.0,>=3.9.14 in /usr/local/lib/python3.11/dist-packages (from langsmith<0.4,>=0.1.17->langchain) (3.10.18)\n",
            "Requirement already satisfied: requests-toolbelt<2.0.0,>=1.0.0 in /usr/local/lib/python3.11/dist-packages (from langsmith<0.4,>=0.1.17->langchain) (1.0.0)\n",
            "Requirement already satisfied: zstandard<0.24.0,>=0.23.0 in /usr/local/lib/python3.11/dist-packages (from langsmith<0.4,>=0.1.17->langchain) (0.23.0)\n",
            "Requirement already satisfied: aiohttp in /usr/local/lib/python3.11/dist-packages (from litellm>=1.60.3->dspy) (3.11.15)\n",
            "Requirement already satisfied: importlib-metadata>=6.8.0 in /usr/local/lib/python3.11/dist-packages (from litellm>=1.60.3->dspy) (8.7.0)\n",
            "Requirement already satisfied: python-dotenv>=0.2.0 in /usr/local/lib/python3.11/dist-packages (from litellm>=1.60.3->dspy) (1.1.0)\n",
            "Requirement already satisfied: tokenizers in /usr/local/lib/python3.11/dist-packages (from litellm>=1.60.3->dspy) (0.21.1)\n",
            "Requirement already satisfied: alembic>=1.5.0 in /usr/local/lib/python3.11/dist-packages (from optuna>=3.4.0->dspy) (1.15.2)\n",
            "Requirement already satisfied: colorlog in /usr/local/lib/python3.11/dist-packages (from optuna>=3.4.0->dspy) (6.9.0)\n",
            "Requirement already satisfied: python-dateutil>=2.8.2 in /usr/local/lib/python3.11/dist-packages (from pandas<3,>=1.4.0->streamlit) (2.9.0.post0)\n",
            "Requirement already satisfied: pytz>=2020.1 in /usr/local/lib/python3.11/dist-packages (from pandas<3,>=1.4.0->streamlit) (2025.2)\n",
            "Requirement already satisfied: tzdata>=2022.7 in /usr/local/lib/python3.11/dist-packages (from pandas<3,>=1.4.0->streamlit) (2025.2)\n",
            "Requirement already satisfied: annotated-types>=0.6.0 in /usr/local/lib/python3.11/dist-packages (from pydantic<3.0.0,>=2.7.4->langchain) (0.7.0)\n",
            "Requirement already satisfied: pydantic-core==2.33.2 in /usr/local/lib/python3.11/dist-packages (from pydantic<3.0.0,>=2.7.4->langchain) (2.33.2)\n",
            "Requirement already satisfied: typing-inspection>=0.4.0 in /usr/local/lib/python3.11/dist-packages (from pydantic<3.0.0,>=2.7.4->langchain) (0.4.0)\n",
            "Requirement already satisfied: charset-normalizer<4,>=2 in /usr/local/lib/python3.11/dist-packages (from requests<3,>=2->langchain) (3.4.2)\n",
            "Requirement already satisfied: markdown-it-py>=2.2.0 in /usr/local/lib/python3.11/dist-packages (from rich>=13.7.1->dspy) (3.0.0)\n",
            "Requirement already satisfied: pygments<3.0.0,>=2.13.0 in /usr/local/lib/python3.11/dist-packages (from rich>=13.7.1->dspy) (2.19.1)\n",
            "Requirement already satisfied: greenlet>=1 in /usr/local/lib/python3.11/dist-packages (from SQLAlchemy<3,>=1.4->langchain) (3.2.2)\n",
            "Requirement already satisfied: networkx in /usr/local/lib/python3.11/dist-packages (from torch>=1.11.0->sentence-transformers) (3.4.2)\n",
            "Requirement already satisfied: nvidia-cuda-nvrtc-cu12==12.4.127 in /usr/local/lib/python3.11/dist-packages (from torch>=1.11.0->sentence-transformers) (12.4.127)\n",
            "Requirement already satisfied: nvidia-cuda-runtime-cu12==12.4.127 in /usr/local/lib/python3.11/dist-packages (from torch>=1.11.0->sentence-transformers) (12.4.127)\n",
            "Requirement already satisfied: nvidia-cuda-cupti-cu12==12.4.127 in /usr/local/lib/python3.11/dist-packages (from torch>=1.11.0->sentence-transformers) (12.4.127)\n",
            "Requirement already satisfied: nvidia-cudnn-cu12==9.1.0.70 in /usr/local/lib/python3.11/dist-packages (from torch>=1.11.0->sentence-transformers) (9.1.0.70)\n",
            "Requirement already satisfied: nvidia-cublas-cu12==12.4.5.8 in /usr/local/lib/python3.11/dist-packages (from torch>=1.11.0->sentence-transformers) (12.4.5.8)\n",
            "Requirement already satisfied: nvidia-cufft-cu12==11.2.1.3 in /usr/local/lib/python3.11/dist-packages (from torch>=1.11.0->sentence-transformers) (11.2.1.3)\n",
            "Requirement already satisfied: nvidia-curand-cu12==10.3.5.147 in /usr/local/lib/python3.11/dist-packages (from torch>=1.11.0->sentence-transformers) (10.3.5.147)\n",
            "Requirement already satisfied: nvidia-cusolver-cu12==11.6.1.9 in /usr/local/lib/python3.11/dist-packages (from torch>=1.11.0->sentence-transformers) (11.6.1.9)\n",
            "Requirement already satisfied: nvidia-cusparse-cu12==12.3.1.170 in /usr/local/lib/python3.11/dist-packages (from torch>=1.11.0->sentence-transformers) (12.3.1.170)\n",
            "Requirement already satisfied: nvidia-cusparselt-cu12==0.6.2 in /usr/local/lib/python3.11/dist-packages (from torch>=1.11.0->sentence-transformers) (0.6.2)\n",
            "Requirement already satisfied: nvidia-nccl-cu12==2.21.5 in /usr/local/lib/python3.11/dist-packages (from torch>=1.11.0->sentence-transformers) (2.21.5)\n",
            "Requirement already satisfied: nvidia-nvtx-cu12==12.4.127 in /usr/local/lib/python3.11/dist-packages (from torch>=1.11.0->sentence-transformers) (12.4.127)\n",
            "Requirement already satisfied: nvidia-nvjitlink-cu12==12.4.127 in /usr/local/lib/python3.11/dist-packages (from torch>=1.11.0->sentence-transformers) (12.4.127)\n",
            "Requirement already satisfied: triton==3.2.0 in /usr/local/lib/python3.11/dist-packages (from torch>=1.11.0->sentence-transformers) (3.2.0)\n",
            "Requirement already satisfied: safetensors>=0.4.3 in /usr/local/lib/python3.11/dist-packages (from transformers<5.0.0,>=4.41.0->sentence-transformers) (0.5.3)\n",
            "Requirement already satisfied: threadpoolctl>=3.1.0 in /usr/local/lib/python3.11/dist-packages (from scikit-learn->sentence-transformers) (3.6.0)\n",
            "Requirement already satisfied: Mako in /usr/lib/python3/dist-packages (from alembic>=1.5.0->optuna>=3.4.0->dspy) (1.1.3)\n",
            "Requirement already satisfied: aiohappyeyeballs>=2.3.0 in /usr/local/lib/python3.11/dist-packages (from aiohttp->litellm>=1.60.3->dspy) (2.6.1)\n",
            "Requirement already satisfied: aiosignal>=1.1.2 in /usr/local/lib/python3.11/dist-packages (from aiohttp->litellm>=1.60.3->dspy) (1.3.2)\n",
            "Requirement already satisfied: attrs>=17.3.0 in /usr/local/lib/python3.11/dist-packages (from aiohttp->litellm>=1.60.3->dspy) (25.3.0)\n",
            "Requirement already satisfied: frozenlist>=1.1.1 in /usr/local/lib/python3.11/dist-packages (from aiohttp->litellm>=1.60.3->dspy) (1.6.0)\n",
            "Requirement already satisfied: multidict<7.0,>=4.5 in /usr/local/lib/python3.11/dist-packages (from aiohttp->litellm>=1.60.3->dspy) (6.4.3)\n",
            "Requirement already satisfied: propcache>=0.2.0 in /usr/local/lib/python3.11/dist-packages (from aiohttp->litellm>=1.60.3->dspy) (0.3.1)\n",
            "Requirement already satisfied: yarl<2.0,>=1.17.0 in /usr/local/lib/python3.11/dist-packages (from aiohttp->litellm>=1.60.3->dspy) (1.20.0)\n",
            "Requirement already satisfied: smmap<6,>=3.0.1 in /usr/local/lib/python3.11/dist-packages (from gitdb<5,>=4.0.1->gitpython!=3.1.19,<4,>=3.0.7->streamlit) (5.0.2)\n",
            "Requirement already satisfied: hyperframe<7,>=6.1 in /usr/local/lib/python3.11/dist-packages (from h2<5,>=3->httpx[http2]>=0.20.0->qdrant-client) (6.1.0)\n",
            "Requirement already satisfied: hpack<5,>=4.1 in /usr/local/lib/python3.11/dist-packages (from h2<5,>=3->httpx[http2]>=0.20.0->qdrant-client) (4.1.0)\n",
            "Requirement already satisfied: zipp>=3.20 in /usr/local/lib/python3.11/dist-packages (from importlib-metadata>=6.8.0->litellm>=1.60.3->dspy) (3.21.0)\n",
            "Requirement already satisfied: MarkupSafe>=2.0 in /usr/local/lib/python3.11/dist-packages (from jinja2->altair<6,>=4.0->streamlit) (3.0.2)\n",
            "Requirement already satisfied: jsonpointer>=1.9 in /usr/local/lib/python3.11/dist-packages (from jsonpatch<2.0,>=1.33->langchain-core<1.0.0,>=0.3.58->langchain) (3.0.0)\n",
            "Requirement already satisfied: jsonschema-specifications>=2023.03.6 in /usr/local/lib/python3.11/dist-packages (from jsonschema>=3.0->altair<6,>=4.0->streamlit) (2025.4.1)\n",
            "Requirement already satisfied: referencing>=0.28.4 in /usr/local/lib/python3.11/dist-packages (from jsonschema>=3.0->altair<6,>=4.0->streamlit) (0.36.2)\n",
            "Requirement already satisfied: rpds-py>=0.7.1 in /usr/local/lib/python3.11/dist-packages (from jsonschema>=3.0->altair<6,>=4.0->streamlit) (0.24.0)\n",
            "Requirement already satisfied: mdurl~=0.1 in /usr/local/lib/python3.11/dist-packages (from markdown-it-py>=2.2.0->rich>=13.7.1->dspy) (0.1.2)\n",
            "Requirement already satisfied: six>=1.5 in /usr/local/lib/python3.11/dist-packages (from python-dateutil>=2.8.2->pandas<3,>=1.4.0->streamlit) (1.17.0)\n"
          ]
        }
      ],
      "source": [
        "!pip install langchain qdrant-client sentence-transformers sympy streamlit dspy tavily-python openai\n"
      ]
    },
    {
      "cell_type": "code",
      "source": [
        "!pip install python-dotenv\n",
        "\n",
        "from dotenv import load_dotenv\n",
        "load_dotenv()  # This will read the .env file and load the keys\n"
      ],
      "metadata": {
        "id": "xyqNNdx6CZKc",
        "colab": {
          "base_uri": "https://localhost:8080/"
        },
        "outputId": "1da8bb92-254a-416e-9976-3a2ae66d1e91"
      },
      "execution_count": null,
      "outputs": [
        {
          "output_type": "stream",
          "name": "stdout",
          "text": [
            "Requirement already satisfied: python-dotenv in /usr/local/lib/python3.11/dist-packages (1.1.0)\n"
          ]
        },
        {
          "output_type": "execute_result",
          "data": {
            "text/plain": [
              "False"
            ]
          },
          "metadata": {},
          "execution_count": 2
        }
      ]
    },
    {
      "cell_type": "code",
      "execution_count": null,
      "metadata": {
        "id": "kbKUtolkWcIa",
        "colab": {
          "base_uri": "https://localhost:8080/"
        },
        "outputId": "7c4dc0dd-9579-4dc4-b2f6-a2545b50490f"
      },
      "outputs": [
        {
          "output_type": "stream",
          "name": "stdout",
          "text": [
            "Drive already mounted at /content/drive; to attempt to forcibly remount, call drive.mount(\"/content/drive\", force_remount=True).\n"
          ]
        }
      ],
      "source": [
        "from google.colab import drive\n",
        "drive.mount('/content/drive')"
      ]
    },
    {
      "cell_type": "code",
      "source": [
        "import os\n",
        "from dotenv import load_dotenv\n",
        "\n",
        "# Load your .env file with the full path\n",
        "load_dotenv(\"/content/drive/MyDrive/MathAgentProject/math_agent_env.env\")\n",
        "\n",
        "# Get environment variables\n",
        "qdrant_url = os.getenv(\"QDRANT_URL\")\n",
        "qdrant_api_key = os.getenv(\"QDRANT_API_KEY\")\n",
        "tavily_api_key = os.getenv(\"TAVILY_API_KEY\")\n"
      ],
      "metadata": {
        "id": "ie01rt863Li9"
      },
      "execution_count": 27,
      "outputs": []
    },
    {
      "cell_type": "code",
      "source": [
        "import os\n",
        "\n",
        "folder_path = \"/content/drive/MyDrive/MathAgentProject\"\n",
        "\n",
        "if not os.path.exists(folder_path):\n",
        "    os.makedirs(folder_path)\n",
        "    print(f\"✅ Folder created: {folder_path}\")\n",
        "else:\n",
        "    print(f\"ℹ️ Folder already exists: {folder_path}\")\n"
      ],
      "metadata": {
        "id": "rlrbqJgj3y_c",
        "colab": {
          "base_uri": "https://localhost:8080/"
        },
        "outputId": "3ba0b121-b015-4753-dd2d-f9a4ee9f4915"
      },
      "execution_count": null,
      "outputs": [
        {
          "output_type": "stream",
          "name": "stdout",
          "text": [
            "ℹ️ Folder already exists: /content/drive/MyDrive/MathAgentProject\n"
          ]
        }
      ]
    },
    {
      "cell_type": "code",
      "source": [],
      "metadata": {
        "id": "OoBGVlAb3fne"
      },
      "execution_count": null,
      "outputs": []
    },
    {
      "cell_type": "code",
      "source": [
        "import os\n",
        "from dotenv import load_dotenv\n",
        "\n",
        "# Load the .env file from your folder\n",
        "load_dotenv(\"/content/drive/MyDrive/MathAgentProject/math_agent_env.env\")\n",
        "\n",
        "# Access the environment variables\n",
        "QDRANT_URL = os.getenv(\"QDRANT_URL\")\n",
        "QDRANT_API_KEY = os.getenv(\"QDRANT_API_KEY\")\n",
        "TAVILY_API_KEY = os.getenv(\"TAVILY_API_KEY\")\n"
      ],
      "metadata": {
        "id": "qfKkajbc4G64"
      },
      "execution_count": 28,
      "outputs": []
    },
    {
      "cell_type": "markdown",
      "metadata": {
        "id": "i46cvGYX4MLm"
      },
      "source": [
        "**step 1(creating folder)**"
      ]
    },
    {
      "cell_type": "code",
      "execution_count": null,
      "metadata": {
        "id": "NCH-HLErUFni"
      },
      "outputs": [],
      "source": [
        "!pip install qdrant-client sentence-transformers --quiet\n",
        "\n",
        "from qdrant_client import QdrantClient\n",
        "from qdrant_client.http.models import Distance, VectorParams\n",
        "from sentence_transformers import SentenceTransformer\n"
      ]
    },
    {
      "cell_type": "code",
      "execution_count": null,
      "metadata": {
        "id": "V_iU7lMp2JMI",
        "colab": {
          "base_uri": "https://localhost:8080/"
        },
        "outputId": "76b88b19-139b-494c-e8e4-fe39ab50b03c"
      },
      "outputs": [
        {
          "output_type": "stream",
          "name": "stdout",
          "text": [
            "/content/drive/MyDrive/MathAgentProject\n"
          ]
        }
      ],
      "source": [
        "import os\n",
        "\n",
        "# ✅ Step 1.1: Create safe project folder\n",
        "project_dir = \"/content/drive/MyDrive/MathAgentProject\"\n",
        "os.makedirs(project_dir, exist_ok=True)\n",
        "\n",
        "# ✅ Step 1.2: Change directory to project folder\n",
        "%cd {project_dir}\n",
        "\n",
        "# ✅ Step 1.3: Install required packages\n",
        "!pip install sympy tiktoken transformers sentence-transformers \\\n",
        "    qdrant-client faiss-cpu gradio openai langchain \\\n",
        "    tavily-python DSPy -q\n"
      ]
    },
    {
      "cell_type": "markdown",
      "metadata": {
        "id": "hxysyvkO5K--"
      },
      "source": [
        "step 2 knowledge_base.py"
      ]
    },
    {
      "cell_type": "code",
      "execution_count": null,
      "metadata": {
        "id": "LSevdtnK0_n1",
        "colab": {
          "base_uri": "https://localhost:8080/"
        },
        "outputId": "7397da1d-a345-46b6-f0cf-e498d2e41830"
      },
      "outputs": [
        {
          "output_type": "stream",
          "name": "stdout",
          "text": [
            "Overwriting /content/drive/MyDrive/MathAgentProject/knowledge_base.py\n"
          ]
        }
      ],
      "source": [
        "%%writefile /content/drive/MyDrive/MathAgentProject/knowledge_base.py\n",
        "# knowledge_base.py\n",
        "\n",
        "from sentence_transformers import SentenceTransformer\n",
        "from qdrant_client import QdrantClient\n",
        "from qdrant_client.http.models import VectorParams, Distance\n",
        "from dotenv import load_dotenv\n",
        "import os\n",
        "import logging\n",
        "import numpy as np\n",
        "\n",
        "logging.basicConfig(level=logging.INFO)\n",
        "\n",
        "class KnowledgeBase:\n",
        "    def __init__(self):\n",
        "        load_dotenv(\"/content/drive/MyDrive/MathAgentProject/math_agent_env.env\")\n",
        "\n",
        "        self.QDRANT_URL = os.getenv(\"QDRANT_URL\")\n",
        "        self.QDRANT_API_KEY = os.getenv(\"QDRANT_API_KEY\")\n",
        "\n",
        "        if not self.QDRANT_URL or not self.QDRANT_API_KEY:\n",
        "            raise ValueError(\"❌ Qdrant credentials not found. Please check your .env file and path.\")\n",
        "\n",
        "        self.collection_name = \"math_agent_knowledge_base\"\n",
        "        self.vector_size = 768  # all-mpnet-base-v2\n",
        "        self.distance = Distance.COSINE\n",
        "\n",
        "        self.model = SentenceTransformer(\"sentence-transformers/all-mpnet-base-v2\")\n",
        "        self.client = QdrantClient(\n",
        "            url=self.QDRANT_URL,\n",
        "            api_key=self.QDRANT_API_KEY,\n",
        "            prefer_grpc=False\n",
        "        )\n",
        "\n",
        "        self._setup_collection()\n",
        "\n",
        "    def _setup_collection(self):\n",
        "        if not self.client.collection_exists(self.collection_name):\n",
        "            self.client.create_collection(\n",
        "                collection_name=self.collection_name,\n",
        "                vectors_config=VectorParams(size=self.vector_size, distance=self.distance),\n",
        "            )\n",
        "            logging.info(f\"✅ Created collection: {self.collection_name}\")\n",
        "        else:\n",
        "            logging.info(f\"✅ Collection already exists: {self.collection_name}\")\n",
        "\n",
        "    def upload_knowledge(self):\n",
        "        data = [\n",
        "            {\"id\": 1, \"question\": \"integral of e**(-x**2)\", \"answer\": \"(sqrt(pi)/2)*erf(x) + C\"},\n",
        "            {\"id\": 2, \"question\": \"derivative of sin(x)\", \"answer\": \"cos(x)\"},\n",
        "            {\"id\": 3, \"question\": \"limit of 1/x as x approaches infinity\", \"answer\": \"0\"},\n",
        "        ]\n",
        "\n",
        "        questions = [item[\"question\"] for item in data]\n",
        "        embeddings = self.model.encode(questions)\n",
        "\n",
        "        points = []\n",
        "        for item, vector in zip(data, embeddings):\n",
        "            if isinstance(vector, np.ndarray):\n",
        "                vector = vector.tolist()\n",
        "            points.append({\n",
        "                \"id\": item[\"id\"],\n",
        "                \"vector\": vector,\n",
        "                \"payload\": {\n",
        "                    \"question\": item[\"question\"],\n",
        "                    \"answer\": item[\"answer\"]\n",
        "                }\n",
        "            })\n",
        "\n",
        "        self.client.upsert(collection_name=self.collection_name, points=points)\n",
        "        logging.info(f\"✅ Uploaded {len(points)} entries to Qdrant\")\n",
        "\n",
        "    def search(self, query):\n",
        "        query_vector = self.model.encode(query)\n",
        "        if isinstance(query_vector, np.ndarray):\n",
        "            query_vector = query_vector.tolist()\n",
        "\n",
        "        results = self.client.search(\n",
        "            collection_name=self.collection_name,\n",
        "            query_vector=query_vector,\n",
        "            limit=1\n",
        "        )\n",
        "\n",
        "        if results and len(results) > 0:\n",
        "            match = results[0]\n",
        "            score = getattr(match, \"score\", 0)\n",
        "            if score > 0.8:\n",
        "                return match.payload[\"question\"], match.payload[\"answer\"], score\n",
        "\n",
        "        return None, None, 0\n",
        "\n",
        "\n",
        "# 🚀 Automatically upload knowledge when script is run directly\n",
        "if __name__ == \"__main__\":\n",
        "    try:\n",
        "        kb = KnowledgeBase()\n",
        "        kb.upload_knowledge()\n",
        "        print(\"✅ Knowledge base uploaded successfully!\")\n",
        "    except Exception as e:\n",
        "        print(\"❌ Error uploading knowledge base:\", e)\n"
      ]
    },
    {
      "cell_type": "code",
      "execution_count": null,
      "metadata": {
        "id": "NAiI6UdEZT18",
        "colab": {
          "base_uri": "https://localhost:8080/"
        },
        "outputId": "7ac68c46-9d15-4782-ba2b-f29ec602ae33"
      },
      "outputs": [
        {
          "output_type": "stream",
          "name": "stderr",
          "text": [
            "/usr/local/lib/python3.11/dist-packages/huggingface_hub/utils/_auth.py:94: UserWarning: \n",
            "The secret `HF_TOKEN` does not exist in your Colab secrets.\n",
            "To authenticate with the Hugging Face Hub, create a token in your settings tab (https://huggingface.co/settings/tokens), set it as secret in your Google Colab and restart your session.\n",
            "You will be able to reuse this secret in all of your notebooks.\n",
            "Please note that authentication is recommended but still optional to access public models or datasets.\n",
            "  warnings.warn(\n"
          ]
        },
        {
          "output_type": "stream",
          "name": "stdout",
          "text": [
            "Top Match: derivative of sin(x)\n",
            "Answer: cos(x)\n",
            "Score: 0.91342044\n"
          ]
        }
      ],
      "source": [
        "from knowledge_base import KnowledgeBase\n",
        "\n",
        "kb = KnowledgeBase()\n",
        "kb.upload_knowledge()\n",
        "q, a, score = kb.search(\"what is the derivative of sin(x)?\")\n",
        "print(\"Top Match:\", q)\n",
        "print(\"Answer:\", a)\n",
        "print(\"Score:\", score)\n"
      ]
    },
    {
      "cell_type": "markdown",
      "metadata": {
        "id": "L9qFqFNg5STj"
      },
      "source": [
        "step 3 web_search.py"
      ]
    },
    {
      "cell_type": "code",
      "execution_count": null,
      "metadata": {
        "id": "6ljgjjrh5JGd",
        "colab": {
          "base_uri": "https://localhost:8080/"
        },
        "outputId": "2084b5af-3416-4c2d-87f4-41bdbd6690c0"
      },
      "outputs": [
        {
          "output_type": "stream",
          "name": "stdout",
          "text": [
            "Overwriting /content/drive/MyDrive/MathAgentProject/web_search.py\n"
          ]
        }
      ],
      "source": [
        "%%writefile /content/drive/MyDrive/MathAgentProject/web_search.py\n",
        "import os\n",
        "import requests\n",
        "from duckduckgo_search import DDGS\n",
        "from dotenv import load_dotenv\n",
        "\n",
        "# Load environment variables from .env file\n",
        "load_dotenv(\"/content/drive/MyDrive/MathAgentProject/math_agent_env.env\")\n",
        "\n",
        "def search_web(query):\n",
        "    \"\"\"\n",
        "    Attempts to retrieve a relevant answer for a math question from Tavily (primary)\n",
        "    and falls back to DuckDuckGo if Tavily fails.\n",
        "    \"\"\"\n",
        "\n",
        "    try:\n",
        "        tavily_key = os.getenv(\"TAVILY_API_KEY\")\n",
        "        if not tavily_key:\n",
        "            raise ValueError(\"TAVILY_API_KEY not found in environment variables. Please set it in your .env file.\")\n",
        "\n",
        "        response = requests.post(\n",
        "            \"https://api.tavily.com/search\",\n",
        "            headers={\"Authorization\": f\"Bearer {tavily_key}\"},\n",
        "            json={\"query\": query, \"search_depth\": \"basic\"},\n",
        "            timeout=10\n",
        "        )\n",
        "        if response.ok:\n",
        "            data = response.json()\n",
        "            if data.get(\"results\"):\n",
        "                return data[\"results\"][0].get(\"content\", \"\").strip()\n",
        "            else:\n",
        "                print(\"✅ Tavily responded but returned no results.\")\n",
        "        else:\n",
        "            print(f\"❌ Tavily error: {response.status_code} - {response.text}\")\n",
        "    except Exception as e:\n",
        "        print(f\"⚠️ Tavily failed: {e}\")\n",
        "\n",
        "    try:\n",
        "        with DDGS() as ddgs:\n",
        "            results = list(ddgs.text(query, max_results=1))\n",
        "            if results and \"body\" in results[0]:\n",
        "                return results[0][\"body\"].strip()\n",
        "            else:\n",
        "                print(\"✅ DuckDuckGo responded but returned no body.\")\n",
        "    except Exception as e:\n",
        "        print(f\"⚠️ DuckDuckGo failed: {e}\")\n",
        "\n",
        "    return \"Web search did not return relevant content.\"\n"
      ]
    },
    {
      "cell_type": "code",
      "execution_count": null,
      "metadata": {
        "id": "_M-uomGI3pzF"
      },
      "outputs": [],
      "source": [
        "import os\n",
        "tavily_key = os.getenv(\"TAVILY_API_KEY\")\n"
      ]
    },
    {
      "cell_type": "markdown",
      "metadata": {
        "id": "0YGwt9Pf7DLj"
      },
      "source": [
        "step 4 math_solver.py"
      ]
    },
    {
      "cell_type": "code",
      "execution_count": null,
      "metadata": {
        "id": "7ZmIVjzl6g9z",
        "colab": {
          "base_uri": "https://localhost:8080/"
        },
        "outputId": "76d42c92-ffd3-4ad8-8d44-24f94cdb78e6"
      },
      "outputs": [
        {
          "output_type": "stream",
          "name": "stdout",
          "text": [
            "Overwriting /content/drive/MyDrive/MathAgentProject/math_solver.py\n"
          ]
        }
      ],
      "source": [
        "%%writefile /content/drive/MyDrive/MathAgentProject/math_solver.py\n",
        "from sympy import Symbol, diff, integrate, limit, sympify, solve, simplify\n",
        "from sympy.parsing.sympy_parser import parse_expr\n",
        "from sympy.core.sympify import SympifyError\n",
        "from sympy_fallback import sympy_fallback  # fallback method\n",
        "\n",
        "def solve_math_question(question: str) -> str:\n",
        "    \"\"\"\n",
        "    Tries solving the math question using SymPy. Falls back to web/LLM if needed.\n",
        "    \"\"\"\n",
        "    try:\n",
        "        question = question.lower()\n",
        "\n",
        "        # Case 1: Derivative\n",
        "        if \"derivative\" in question or \"differentiate\" in question:\n",
        "            expr = question.split(\"of\")[-1].strip()\n",
        "            x = Symbol('x')\n",
        "            result = diff(expr, x)\n",
        "            return f\"SymPy: The derivative is {result}\"\n",
        "\n",
        "        # Case 2: Integration\n",
        "        elif \"integrate\" in question or \"integration\" in question:\n",
        "            expr = question.split(\"of\")[-1].strip()\n",
        "            x = Symbol('x')\n",
        "            result = integrate(expr, x)\n",
        "            return f\"SymPy: The integral is {result} + C\"\n",
        "\n",
        "        # Case 3: Limit\n",
        "        elif \"limit\" in question and \"as\" in question:\n",
        "            parts = question.split(\"limit of\")[-1].strip().split(\" as \")\n",
        "            expr = parts[0].strip()\n",
        "            var_part = parts[1].replace(\"approaches\", \"->\").strip()\n",
        "            var_name, value = [x.strip() for x in var_part.split(\"->\")]\n",
        "            x = Symbol(var_name)\n",
        "            result = limit(sympify(expr), x, sympify(value))\n",
        "            return f\"SymPy: The limit is {result}\"\n",
        "\n",
        "        # Case 4: Solve\n",
        "        elif \"solve\" in question:\n",
        "            expr = question.split(\"solve\")[-1].strip()\n",
        "            x = Symbol('x')\n",
        "            eq = parse_expr(expr)\n",
        "            solution = solve(eq, x)\n",
        "            return f\"SymPy: Solution is {solution}\"\n",
        "\n",
        "        # Case 5: Simplify anything else\n",
        "        else:\n",
        "            expr = parse_expr(question)\n",
        "            result = simplify(expr)\n",
        "            return f\"SymPy: Simplified result is {result}\"\n",
        "\n",
        "    except (SympifyError, Exception) as e:\n",
        "        print(\"⚠️ SymPy failed, trying fallback...\")\n",
        "        try:\n",
        "            fallback_result = sympy_fallback(question)\n",
        "            return f\"{fallback_result}\"\n",
        "        except Exception as inner_e:\n",
        "            return f\"SymPy Error: {str(inner_e)}\"\n"
      ]
    },
    {
      "cell_type": "markdown",
      "metadata": {
        "id": "SN4g75k_7hs4"
      },
      "source": [
        "step 5 feedback_loop.py"
      ]
    },
    {
      "cell_type": "code",
      "execution_count": null,
      "metadata": {
        "id": "0RUju5G37G5f",
        "colab": {
          "base_uri": "https://localhost:8080/"
        },
        "outputId": "60d07680-5476-4ae7-99a2-98fd961697a4"
      },
      "outputs": [
        {
          "output_type": "stream",
          "name": "stdout",
          "text": [
            "Overwriting /content/drive/MyDrive/MathAgentProject/feedback_loop.py\n"
          ]
        }
      ],
      "source": [
        "%%writefile /content/drive/MyDrive/MathAgentProject/feedback_loop.py\n",
        "def get_human_feedback(question, agent_answer):\n",
        "    \"\"\"\n",
        "    Handles Human-in-the-Loop Feedback.\n",
        "    Prompts user to validate or refine the AI-generated answer.\n",
        "\n",
        "    Parameters:\n",
        "    - question (str): The original math question asked.\n",
        "    - agent_answer (str): The answer generated by the system.\n",
        "\n",
        "    Returns:\n",
        "    - str: Final answer after optional human feedback.\n",
        "    \"\"\"\n",
        "\n",
        "    print(\"\\n🤖 Final Answer Before Feedback:\", agent_answer)\n",
        "    print(\"👩‍🎓 Student Feedback: Was this answer helpful?\")\n",
        "    print(\"✏️ Type 'yes' to accept, or write your corrected answer below:\")\n",
        "\n",
        "    feedback = input(\"👉 Feedback: \").strip().lower()\n",
        "\n",
        "    if feedback == \"yes\":\n",
        "        print(\"✅ Human confirmed the answer is correct.\")\n",
        "        return agent_answer\n",
        "\n",
        "    elif feedback:\n",
        "        print(\"✅ Feedback noted. Updating answer based on human input.\")\n",
        "        # Optional: store this feedback for future model improvement (bonus)\n",
        "        return f\"✅ Updated Based on Feedback: {feedback}\"\n",
        "\n",
        "    else:\n",
        "        print(\"⚠️ No valid feedback provided. Keeping original answer.\")\n",
        "        return agent_answer\n"
      ]
    },
    {
      "cell_type": "markdown",
      "metadata": {
        "id": "ZpqzvL4Q8Kgn"
      },
      "source": [
        "step 6 router_agent.py"
      ]
    },
    {
      "cell_type": "code",
      "execution_count": null,
      "metadata": {
        "id": "MFDojzzk7mSg",
        "colab": {
          "base_uri": "https://localhost:8080/"
        },
        "outputId": "8a1f6a6f-4ed7-49e3-c839-d7fcc1f1a4ff"
      },
      "outputs": [
        {
          "output_type": "stream",
          "name": "stdout",
          "text": [
            "Overwriting /content/drive/MyDrive/MathAgentProject/router_agent.py\n"
          ]
        }
      ],
      "source": [
        "%%writefile /content/drive/MyDrive/MathAgentProject/router_agent.py\n",
        "from guardrails import input_guardrail, output_guardrail\n",
        "from knowledge_base import KnowledgeBase\n",
        "from web_search import search_web\n",
        "from math_solver import solve_math_question\n",
        "from feedback_loop import get_human_feedback\n",
        "from sympy_fallback import sympy_fallback\n",
        "\n",
        "class MathAgent:\n",
        "    def __init__(self):\n",
        "        self.kb = KnowledgeBase()\n",
        "\n",
        "    def process_question(self, question: str) -> str:\n",
        "        print(\"\\n🤖 Received question:\", question)\n",
        "\n",
        "        # Step 0: Input Guardrail\n",
        "        is_valid, message = input_guardrail(question)\n",
        "        if not is_valid:\n",
        "            return f\"🚫 Input blocked: {message}\"\n",
        "\n",
        "        # Step 1: Search Knowledge Base\n",
        "        kb_question, kb_answer, score = self.kb.search(question)\n",
        "        if kb_answer and score > 0.8:\n",
        "            print(\"✅ Answer found in Knowledge Base.\")\n",
        "            answer = f\"📚 KB Answer:\\n{kb_answer}\\n(Score: {score:.2f})\"\n",
        "        else:\n",
        "            print(\"🔎 Not found in KB. Moving to web search...\")\n",
        "\n",
        "            # Step 2: Web Search\n",
        "            web_answer = search_web(question)\n",
        "            print(\"🌐 Web Answer:\", web_answer)\n",
        "\n",
        "            # Step 3: Try solving using SymPy\n",
        "            print(\"🧮 Trying SymPy...\")\n",
        "            sympy_result = solve_math_question(question)\n",
        "            print(\"🧾 SymPy Output:\", sympy_result)\n",
        "\n",
        "            # Step 4: If SymPy fails, try fallback (e.g., LLM or heuristic)\n",
        "            if not sympy_result or \"SymPy Error\" in sympy_result or \"Not implemented\" in sympy_result:\n",
        "                print(\"⚠️ SymPy failed. Trying fallback...\")\n",
        "                try:\n",
        "                    sympy_result = sympy_fallback(question)\n",
        "                    print(\"✅ Fallback successful:\", sympy_result)\n",
        "                except Exception as e:\n",
        "                    print(\"❌ Fallback failed:\", str(e))\n",
        "                    sympy_result = \"\"\n",
        "\n",
        "            # Step 5: Decide which answer to prefer\n",
        "            if sympy_result and \"Error\" not in sympy_result and \"Not implemented\" not in sympy_result:\n",
        "                answer = f\"🧮 Math Solver:\\n{sympy_result}\"\n",
        "            elif web_answer:\n",
        "                answer = f\"🌐 Web Answer:\\n{web_answer}\"\n",
        "            else:\n",
        "                answer = \"❌ Sorry, I couldn't solve this question.\"\n",
        "\n",
        "        # Step 6: Output Guardrail\n",
        "        final_safe_output = output_guardrail(answer)\n",
        "\n",
        "        # Step 7: Human-in-the-loop Feedback\n",
        "        reviewed_output = get_human_feedback(question, final_safe_output)\n",
        "\n",
        "        return reviewed_output\n",
        "\n",
        "\n",
        "# 🧪 For testing in Colab\n",
        "if __name__ == \"__main__\":\n",
        "    agent = MathAgent()\n",
        "    while True:\n",
        "        user_q = input(\"\\n💬 Ask a math question (or type 'exit'): \")\n",
        "        if user_q.lower() in [\"exit\", \"quit\"]:\n",
        "            break\n",
        "        response = agent.process_question(user_q)\n",
        "        print(\"\\n🟩 Final Answer:\\n\", response)\n"
      ]
    },
    {
      "cell_type": "markdown",
      "metadata": {
        "id": "BSNv0CEQ9YNu"
      },
      "source": [
        "step 7 app.py"
      ]
    },
    {
      "cell_type": "code",
      "execution_count": null,
      "metadata": {
        "id": "8yXbZ9bv8Pq8",
        "colab": {
          "base_uri": "https://localhost:8080/"
        },
        "outputId": "499a24e3-5be3-41b1-a95f-7baa44e3780a"
      },
      "outputs": [
        {
          "output_type": "stream",
          "name": "stdout",
          "text": [
            "Overwriting /content/drive/MyDrive/MathAgentProject/app.py\n"
          ]
        }
      ],
      "source": [
        "%%writefile /content/drive/MyDrive/MathAgentProject/app.py\n",
        "from dotenv import load_dotenv\n",
        "import os\n",
        "import sys\n",
        "\n",
        "# Load environment variables from your env file\n",
        "load_dotenv(\"/content/drive/MyDrive/MathAgentProject/math_agent_env.env\")\n",
        "\n",
        "from router_agent import MathAgent\n",
        "\n",
        "def run_cli_agent():\n",
        "    print(\"\\n📘 Welcome to the Human-in-the-Loop Math Agent (CLI)!\")\n",
        "    print(\"ℹ️  Type your math questions below.\")\n",
        "    print(\"🔚 Type 'exit' or 'quit' to end the session.\\n\")\n",
        "    print(\"💡 Example questions: 'derivative of sin(x)', 'solve x**2 - 4 = 0', 'limit of 1/x as x->infinity'\\n\")\n",
        "\n",
        "    agent = MathAgent()\n",
        "\n",
        "    while True:\n",
        "        try:\n",
        "            user_question = input(\"📥 Enter a math question: \").strip()\n",
        "\n",
        "            if user_question.lower() in ['exit', 'quit']:\n",
        "                print(\"\\n👋 Exiting Math Agent. Goodbye!\")\n",
        "                break\n",
        "\n",
        "            if not user_question:\n",
        "                print(\"⚠️ Please enter a valid question.\")\n",
        "                continue\n",
        "\n",
        "            print(\"\\n🧠 Thinking...\\n\")\n",
        "            result = agent.process_question(user_question)\n",
        "            print(\"\\n🤖 Final Answer:\", result)\n",
        "\n",
        "        except KeyboardInterrupt:\n",
        "            print(\"\\n🛑 Interrupted. Exiting gracefully.\")\n",
        "            break\n",
        "\n",
        "        except Exception as e:\n",
        "            print(f\"❌ An unexpected error occurred: {e}\")\n",
        "            continue\n",
        "\n",
        "\n",
        "def run_streamlit_app():\n",
        "    import streamlit as st\n",
        "\n",
        "    st.title(\"🧮 Human-in-the-Loop Math Agent (Web UI)\")\n",
        "    st.write(\"Ask me any math question, e.g., 'derivative of sin(x)', 'solve x**2 - 4 = 0', etc.\")\n",
        "\n",
        "    agent = MathAgent()\n",
        "\n",
        "    question = st.text_input(\"Enter your math question:\")\n",
        "\n",
        "    if st.button(\"Solve\"):\n",
        "        if not question.strip():\n",
        "            st.warning(\"Please enter a valid math question.\")\n",
        "        else:\n",
        "            with st.spinner(\"Thinking...\"):\n",
        "                answer = agent.process_question(question)\n",
        "            st.markdown(f\"**Answer:** {answer}\")\n",
        "\n",
        "\n",
        "\n",
        "if __name__ == \"__main__\":\n",
        "    if len(sys.argv) > 1 and sys.argv[1] == \"web\":\n",
        "        # Run the Streamlit app if \"web\" arg is passed\n",
        "        run_streamlit_app()\n",
        "    else:\n",
        "        # Otherwise run the CLI version by default\n",
        "        run_cli_agent()\n"
      ]
    },
    {
      "cell_type": "markdown",
      "metadata": {
        "id": "1cjsQaf8-FaZ"
      },
      "source": [
        "step 8 guardrails.py"
      ]
    },
    {
      "cell_type": "code",
      "execution_count": null,
      "metadata": {
        "id": "iFXdCFgv-DZX",
        "colab": {
          "base_uri": "https://localhost:8080/"
        },
        "outputId": "70dc0647-463a-4d06-81b9-e593363f35bb"
      },
      "outputs": [
        {
          "output_type": "stream",
          "name": "stdout",
          "text": [
            "Overwriting /content/drive/MyDrive/MathAgentProject/guardrails.py\n"
          ]
        }
      ],
      "source": [
        "%%writefile /content/drive/MyDrive/MathAgentProject/guardrails.py\n",
        "def input_guardrail(user_input):\n",
        "    \"\"\"\n",
        "    Ensures only math-related questions are processed.\n",
        "    Blocks inappropriate or unrelated content.\n",
        "    Returns:\n",
        "    - (bool, str): (True, \"\") if input is allowed, else (False, \"error message\")\n",
        "    \"\"\"\n",
        "    blocked_keywords = [\"politics\", \"violence\", \"game\", \"movie\", \"actor\", \"adult\", \"celebrity\"]\n",
        "\n",
        "    for word in blocked_keywords:\n",
        "        if word.lower() in user_input.lower():\n",
        "            return False, f\"❌ Question blocked due to inappropriate keyword: '{word}'\"\n",
        "\n",
        "    if not user_input.strip():\n",
        "        return False, \"⚠️ Question cannot be empty.\"\n",
        "\n",
        "    return True, \"\"  # ✅ Return tuple: allowed and empty message\n",
        "\n",
        "\n",
        "\n",
        "def output_guardrail(response):\n",
        "    \"\"\"\n",
        "    Ensures output is appropriate, educational, and non-harmful.\n",
        "    Returns:\n",
        "    - str: sanitized response or rejection message\n",
        "    \"\"\"\n",
        "    if not response or len(response.strip()) == 0:\n",
        "        return \"⚠️ Output rejected: The system could not generate a safe answer.\"\n",
        "\n",
        "    if any(bad_word in response.lower() for bad_word in [\"kill\", \"bomb\", \"nude\", \"hack\"]):\n",
        "        return \"🚫 Output rejected due to unsafe content.\"\n",
        "\n",
        "    return response\n"
      ]
    },
    {
      "cell_type": "code",
      "source": [
        "%%writefile /content/drive/MyDrive/MathAgentProject/colab_run.py\n",
        "from dotenv import load_dotenv\n",
        "from router_agent import MathAgent\n",
        "\n",
        "# Load environment variables (optional)\n",
        "load_dotenv(\"/content/drive/MyDrive/MathAgentProject/math_agent_env.env\")  # Update path if needed\n",
        "\n",
        "# Create an instance of the Math Agent\n",
        "agent = MathAgent()\n",
        "\n",
        "# ✅ Provide your test question here (change as needed)\n",
        "question = \"limit of sin(x)/x as x approaches 0\"\n",
        "\n",
        "print(\"\\n📥 Question:\", question)\n",
        "print(\"\\n🧠 Thinking...\\n\")\n",
        "answer = agent.process_question(question)\n",
        "print(\"\\n🤖 Final Answer:\", answer)\n"
      ],
      "metadata": {
        "id": "6rYoBUXVtPA4",
        "colab": {
          "base_uri": "https://localhost:8080/"
        },
        "outputId": "2231b7c9-1aec-4bb9-adc3-de9c3542b21e"
      },
      "execution_count": null,
      "outputs": [
        {
          "output_type": "stream",
          "name": "stdout",
          "text": [
            "Overwriting /content/drive/MyDrive/MathAgentProject/colab_run.py\n"
          ]
        }
      ]
    },
    {
      "cell_type": "code",
      "source": [
        "%%writefile /content/drive/MyDrive/MathAgentProject/colab_test.py\n",
        "from dotenv import load_dotenv\n",
        "from router_agent import MathAgent\n",
        "\n",
        "# Load environment variables (optional)\n",
        "load_dotenv(\"/content/drive/MyDrive/MathAgentProject/math_agent_env.env\")  # Update path if needed\n",
        "\n",
        "agent = MathAgent()\n",
        "\n",
        "questions = [\n",
        "    \"limit of sin(x)/x as x approaches 0\",\n",
        "    \"derivative of x**3 + 2*x\",\n",
        "    \"solve x**2 - 4 = 0\",\n",
        "    \"integral of e**(-x**2)\",\n",
        "    \"simplify (x**2 - 1)/(x - 1)\"\n",
        "]\n",
        "\n",
        "print(\"\\n📘 Running batch test for multiple math questions...\\n\")\n",
        "\n",
        "for i, question in enumerate(questions, 1):\n",
        "    print(f\"📥 Question {i}: {question}\")\n",
        "    print(\"🧠 Thinking...\\n\")\n",
        "    answer = agent.process_question(question)\n",
        "    print(f\"🤖 Answer {i}: {answer}\\n\")\n",
        "    print(\"-\" * 40)\n",
        "\n",
        "print(\"✅ Batch test completed.\")\n"
      ],
      "metadata": {
        "id": "w8ezwbj6tR2W",
        "colab": {
          "base_uri": "https://localhost:8080/"
        },
        "outputId": "74c1fe53-21cf-4f65-865d-fa0201f29d7d"
      },
      "execution_count": null,
      "outputs": [
        {
          "output_type": "stream",
          "name": "stdout",
          "text": [
            "Overwriting /content/drive/MyDrive/MathAgentProject/colab_test.py\n"
          ]
        }
      ]
    },
    {
      "cell_type": "code",
      "execution_count": null,
      "metadata": {
        "id": "4b9R2xNh_nCl",
        "colab": {
          "base_uri": "https://localhost:8080/"
        },
        "outputId": "6a3ea108-e021-4081-dab9-89c7edf5addb"
      },
      "outputs": [
        {
          "output_type": "stream",
          "name": "stdout",
          "text": [
            "Overwriting /content/drive/MyDrive/MathAgentProject/sympy_fallback.py\n"
          ]
        }
      ],
      "source": [
        "%%writefile /content/drive/MyDrive/MathAgentProject/sympy_fallback.py\n",
        "from sympy import symbols, sympify, diff, integrate, limit, oo, solve, simplify\n",
        "from sympy import log\n",
        "from sympy.parsing.sympy_parser import (\n",
        "    parse_expr, standard_transformations, implicit_multiplication_application\n",
        ")\n",
        "from sympy.core.sympify import SympifyError\n",
        "import re  # Needed for text cleaning\n",
        "\n",
        "# Define symbols globally\n",
        "x, n = symbols('x n')\n",
        "\n",
        "# Add implicit multiplication to transformations to handle inputs like 5x, 2sin(x), etc.\n",
        "transformations = standard_transformations + (implicit_multiplication_application,)\n",
        "\n",
        "def sympy_fallback(question: str) -> str:\n",
        "    try:\n",
        "        question = question.lower().strip()\n",
        "\n",
        "        # Remove invisible/non-standard Unicode characters like ⁡, 𝑥, → etc.\n",
        "        question = re.sub(r\"[^\\x00-\\x7F]+\", \"\", question)\n",
        "\n",
        "        # Derivative handling\n",
        "        if \"derivative of\" in question:\n",
        "            expr_text = question.split(\"derivative of\")[-1].strip().rstrip(\"?\")\n",
        "\n",
        "            # Fix missing parentheses in rational expressions (e.g. \"x+1/x-1\")\n",
        "            if \"/\" in expr_text and \"(\" not in expr_text:\n",
        "                parts = expr_text.split(\"/\")\n",
        "                if len(parts) == 2:\n",
        "                    numerator = parts[0].strip()\n",
        "                    denominator = parts[1].strip()\n",
        "                    expr_text = f\"({numerator})/({denominator})\"\n",
        "\n",
        "            expr = parse_expr(expr_text, transformations=transformations, evaluate=False)\n",
        "            derivative = simplify(diff(expr, x))\n",
        "            return f\"SymPy: The derivative is {derivative}\"\n",
        "\n",
        "        # Integral handling\n",
        "        elif \"integral of\" in question:\n",
        "            expr_text = question.split(\"integral of\")[-1].strip().rstrip(\"?\")\n",
        "\n",
        "            # Special case for Gaussian integral\n",
        "            if expr_text == \"e**(-x**2)\":\n",
        "                return \"(sqrt(pi)/2)*erf(x) + C\"\n",
        "\n",
        "            expr = parse_expr(expr_text, transformations=transformations, evaluate=False)\n",
        "            result = integrate(expr, x)\n",
        "            return f\"SymPy: The integral is {result} + C\"\n",
        "\n",
        "        # Limit handling\n",
        "        elif \"limit of\" in question:\n",
        "            if \"as\" in question and \"approaches\" in question:\n",
        "                expr_text = question.split(\"limit of\")[-1].split(\"as\")[0].strip()\n",
        "                var_part = question.split(\"as\")[-1].strip().rstrip(\"?\")\n",
        "                var_name, _, approach_val = var_part.partition(\"approaches\")\n",
        "                var_name = var_name.strip()\n",
        "                approach_val = approach_val.strip()\n",
        "\n",
        "                var = symbols(var_name)\n",
        "                expr = parse_expr(expr_text, transformations=transformations, evaluate=False)\n",
        "\n",
        "                if approach_val == \"infinity\":\n",
        "                    lim = limit(expr, var, oo)\n",
        "                elif approach_val == \"-infinity\":\n",
        "                    lim = limit(expr, var, -oo)\n",
        "                else:\n",
        "                    lim = limit(expr, var, sympify(approach_val))\n",
        "                return f\"SymPy: The limit is {lim}\"\n",
        "\n",
        "        # Equation solving\n",
        "        elif \"solve\" in question or \"=\" in question:\n",
        "            if \"solve\" in question:\n",
        "                eq_text = question.split(\"solve\")[-1].strip().rstrip(\"?\")\n",
        "            else:\n",
        "                eq_text = question\n",
        "\n",
        "            if \"=\" in eq_text:\n",
        "                lhs_text, rhs_text = eq_text.split(\"=\", 1)\n",
        "                lhs = parse_expr(lhs_text.strip(), transformations=transformations, evaluate=False)\n",
        "                rhs = parse_expr(rhs_text.strip(), transformations=transformations, evaluate=False)\n",
        "                equation = lhs - rhs\n",
        "            else:\n",
        "                equation = parse_expr(eq_text, transformations=transformations, evaluate=False)\n",
        "\n",
        "            solutions = solve(equation, x)\n",
        "\n",
        "            if solutions:\n",
        "                return f\"SymPy: The solutions are {solutions}\"\n",
        "            else:\n",
        "                return \"SymPy: No solutions found.\"\n",
        "\n",
        "        # Not recognized question type\n",
        "        return \"SymPy: Not implemented for this type.\"\n",
        "\n",
        "    except SympifyError:\n",
        "        return \"SymPy: Could not parse the expression.\"\n",
        "    except Exception as e:\n",
        "        return f\"SymPy Error: {str(e)}\"\n"
      ]
    },
    {
      "cell_type": "code",
      "execution_count": null,
      "metadata": {
        "id": "DoBmR6R--sO_"
      },
      "outputs": [],
      "source": [
        "!pip install duckduckgo-search -q"
      ]
    },
    {
      "cell_type": "code",
      "source": [
        "from google.colab import drive\n",
        "drive.mount('/content/drive')\n"
      ],
      "metadata": {
        "id": "2ASAbEfFyiHf",
        "colab": {
          "base_uri": "https://localhost:8080/"
        },
        "outputId": "73b58720-7262-49cd-fbbc-c5645ae2acff"
      },
      "execution_count": null,
      "outputs": [
        {
          "output_type": "stream",
          "name": "stdout",
          "text": [
            "Drive already mounted at /content/drive; to attempt to forcibly remount, call drive.mount(\"/content/drive\", force_remount=True).\n"
          ]
        }
      ]
    },
    {
      "cell_type": "code",
      "source": [
        "#(limit of 1/x as x -> infinity → (Should be in KB)\n",
        "\n",
        "#derivative of sin(x) → (Should be in KB)\n",
        "\n",
        "#integral of e**(-x**2) → (Should be in KB)\n",
        "\n",
        "#solve x**2 - 5*x + 6 = 0 → (Should go to SymPy)\n",
        "\n",
        "#limit of sin(x)/x as x->0 → (Test if it does SymPy/web fallback)\n",
        "# Derivative of e^(x^2)\n"
      ],
      "metadata": {
        "id": "JbEUgBMzO8fh"
      },
      "execution_count": null,
      "outputs": []
    },
    {
      "cell_type": "code",
      "source": [
        "!python3 /content/drive/MyDrive/MathAgentProject/app.py"
      ],
      "metadata": {
        "id": "pjMfTJ2Bkzhu",
        "colab": {
          "base_uri": "https://localhost:8080/"
        },
        "outputId": "c0e964ad-3d4d-42f8-c394-60e5eac99629"
      },
      "execution_count": null,
      "outputs": [
        {
          "output_type": "stream",
          "name": "stdout",
          "text": [
            "2025-05-16 13:39:43.787136: E external/local_xla/xla/stream_executor/cuda/cuda_fft.cc:477] Unable to register cuFFT factory: Attempting to register factory for plugin cuFFT when one has already been registered\n",
            "WARNING: All log messages before absl::InitializeLog() is called are written to STDERR\n",
            "E0000 00:00:1747402783.826825   21520 cuda_dnn.cc:8310] Unable to register cuDNN factory: Attempting to register factory for plugin cuDNN when one has already been registered\n",
            "E0000 00:00:1747402783.835983   21520 cuda_blas.cc:1418] Unable to register cuBLAS factory: Attempting to register factory for plugin cuBLAS when one has already been registered\n",
            "\n",
            "📘 Welcome to the Human-in-the-Loop Math Agent (CLI)!\n",
            "ℹ️  Type your math questions below.\n",
            "🔚 Type 'exit' or 'quit' to end the session.\n",
            "\n",
            "💡 Example questions: 'derivative of sin(x)', 'solve x**2 - 4 = 0', 'limit of 1/x as x->infinity'\n",
            "\n",
            "📥 Enter a math question: derivative of x**2 + 3*x + 2\n",
            "\n",
            "🧠 Thinking...\n",
            "\n",
            "\n",
            "🤖 Received question: derivative of x**2 + 3*x + 2\n",
            "🔎 Not found in KB. Moving to web search...\n",
            "🌐 Web Answer: Derivative Calculator • With Steps! Derivative Calculator The Derivative Calculator supports computing first, second, …, fifth derivatives as well as differentiating functions with many variables (partial derivatives), implicit differentiation and calculating roots/zeros. Enter the function you want to differentiate into the Derivative Calculator. In \"Examples\" you will find some of the functions that are most frequently entered into the Derivative Calculator. When you're done entering your function, click \"Go!\", and the Derivative Calculator will show the result below. When the \"Go!\" button is clicked, the Derivative Calculator sends the mathematical function and the settings (differentiation variable and order) to the server, where it is analyzed again. Like any computer algebra system, it applies a number of rules to simplify the function and calculate the derivatives according to the commonly known differentiation rules.\n",
            "🧮 Trying SymPy...\n",
            "🧾 SymPy Output: SymPy: The derivative is 2*x + 3\n",
            "\n",
            "🤖 Final Answer Before Feedback: 🧮 Math Solver:\n",
            "SymPy: The derivative is 2*x + 3\n",
            "👩‍🎓 Student Feedback: Was this answer helpful?\n",
            "✏️ Type 'yes' to accept, or write your corrected answer below:\n",
            "👉 Feedback: yes\n",
            "✅ Human confirmed the answer is correct.\n",
            "\n",
            "🤖 Final Answer: 🧮 Math Solver:\n",
            "SymPy: The derivative is 2*x + 3\n",
            "📥 Enter a math question: quit\n",
            "\n",
            "👋 Exiting Math Agent. Goodbye!\n"
          ]
        }
      ]
    },
    {
      "cell_type": "markdown",
      "source": [
        "!streamlit run /content/drive/MyDrive/MathAgentProject/app.py -- web\n"
      ],
      "metadata": {
        "id": "ANnUN49WYsHE"
      }
    },
    {
      "cell_type": "code",
      "source": [
        "!pip install streamlit pyngrok\n"
      ],
      "metadata": {
        "colab": {
          "base_uri": "https://localhost:8080/"
        },
        "id": "T2EjOrP_Ydl4",
        "outputId": "22efe0b7-895d-42c5-8a10-ebfc907bfc7c"
      },
      "execution_count": null,
      "outputs": [
        {
          "output_type": "stream",
          "name": "stdout",
          "text": [
            "Requirement already satisfied: streamlit in /usr/local/lib/python3.11/dist-packages (1.45.1)\n",
            "Collecting pyngrok\n",
            "  Downloading pyngrok-7.2.8-py3-none-any.whl.metadata (10 kB)\n",
            "Requirement already satisfied: altair<6,>=4.0 in /usr/local/lib/python3.11/dist-packages (from streamlit) (5.5.0)\n",
            "Requirement already satisfied: blinker<2,>=1.5.0 in /usr/local/lib/python3.11/dist-packages (from streamlit) (1.9.0)\n",
            "Requirement already satisfied: cachetools<6,>=4.0 in /usr/local/lib/python3.11/dist-packages (from streamlit) (5.5.2)\n",
            "Requirement already satisfied: click<9,>=7.0 in /usr/local/lib/python3.11/dist-packages (from streamlit) (8.2.0)\n",
            "Requirement already satisfied: numpy<3,>=1.23 in /usr/local/lib/python3.11/dist-packages (from streamlit) (2.0.2)\n",
            "Requirement already satisfied: packaging<25,>=20 in /usr/local/lib/python3.11/dist-packages (from streamlit) (24.2)\n",
            "Requirement already satisfied: pandas<3,>=1.4.0 in /usr/local/lib/python3.11/dist-packages (from streamlit) (2.2.2)\n",
            "Requirement already satisfied: pillow<12,>=7.1.0 in /usr/local/lib/python3.11/dist-packages (from streamlit) (11.2.1)\n",
            "Requirement already satisfied: protobuf<7,>=3.20 in /usr/local/lib/python3.11/dist-packages (from streamlit) (5.29.4)\n",
            "Requirement already satisfied: pyarrow>=7.0 in /usr/local/lib/python3.11/dist-packages (from streamlit) (18.1.0)\n",
            "Requirement already satisfied: requests<3,>=2.27 in /usr/local/lib/python3.11/dist-packages (from streamlit) (2.32.3)\n",
            "Requirement already satisfied: tenacity<10,>=8.1.0 in /usr/local/lib/python3.11/dist-packages (from streamlit) (9.1.2)\n",
            "Requirement already satisfied: toml<2,>=0.10.1 in /usr/local/lib/python3.11/dist-packages (from streamlit) (0.10.2)\n",
            "Requirement already satisfied: typing-extensions<5,>=4.4.0 in /usr/local/lib/python3.11/dist-packages (from streamlit) (4.13.2)\n",
            "Requirement already satisfied: watchdog<7,>=2.1.5 in /usr/local/lib/python3.11/dist-packages (from streamlit) (6.0.0)\n",
            "Requirement already satisfied: gitpython!=3.1.19,<4,>=3.0.7 in /usr/local/lib/python3.11/dist-packages (from streamlit) (3.1.44)\n",
            "Requirement already satisfied: pydeck<1,>=0.8.0b4 in /usr/local/lib/python3.11/dist-packages (from streamlit) (0.9.1)\n",
            "Requirement already satisfied: tornado<7,>=6.0.3 in /usr/local/lib/python3.11/dist-packages (from streamlit) (6.4.2)\n",
            "Requirement already satisfied: PyYAML>=5.1 in /usr/local/lib/python3.11/dist-packages (from pyngrok) (6.0.2)\n",
            "Requirement already satisfied: jinja2 in /usr/local/lib/python3.11/dist-packages (from altair<6,>=4.0->streamlit) (3.1.6)\n",
            "Requirement already satisfied: jsonschema>=3.0 in /usr/local/lib/python3.11/dist-packages (from altair<6,>=4.0->streamlit) (4.23.0)\n",
            "Requirement already satisfied: narwhals>=1.14.2 in /usr/local/lib/python3.11/dist-packages (from altair<6,>=4.0->streamlit) (1.39.0)\n",
            "Requirement already satisfied: gitdb<5,>=4.0.1 in /usr/local/lib/python3.11/dist-packages (from gitpython!=3.1.19,<4,>=3.0.7->streamlit) (4.0.12)\n",
            "Requirement already satisfied: python-dateutil>=2.8.2 in /usr/local/lib/python3.11/dist-packages (from pandas<3,>=1.4.0->streamlit) (2.9.0.post0)\n",
            "Requirement already satisfied: pytz>=2020.1 in /usr/local/lib/python3.11/dist-packages (from pandas<3,>=1.4.0->streamlit) (2025.2)\n",
            "Requirement already satisfied: tzdata>=2022.7 in /usr/local/lib/python3.11/dist-packages (from pandas<3,>=1.4.0->streamlit) (2025.2)\n",
            "Requirement already satisfied: charset-normalizer<4,>=2 in /usr/local/lib/python3.11/dist-packages (from requests<3,>=2.27->streamlit) (3.4.2)\n",
            "Requirement already satisfied: idna<4,>=2.5 in /usr/local/lib/python3.11/dist-packages (from requests<3,>=2.27->streamlit) (3.10)\n",
            "Requirement already satisfied: urllib3<3,>=1.21.1 in /usr/local/lib/python3.11/dist-packages (from requests<3,>=2.27->streamlit) (2.4.0)\n",
            "Requirement already satisfied: certifi>=2017.4.17 in /usr/local/lib/python3.11/dist-packages (from requests<3,>=2.27->streamlit) (2025.4.26)\n",
            "Requirement already satisfied: smmap<6,>=3.0.1 in /usr/local/lib/python3.11/dist-packages (from gitdb<5,>=4.0.1->gitpython!=3.1.19,<4,>=3.0.7->streamlit) (5.0.2)\n",
            "Requirement already satisfied: MarkupSafe>=2.0 in /usr/local/lib/python3.11/dist-packages (from jinja2->altair<6,>=4.0->streamlit) (3.0.2)\n",
            "Requirement already satisfied: attrs>=22.2.0 in /usr/local/lib/python3.11/dist-packages (from jsonschema>=3.0->altair<6,>=4.0->streamlit) (25.3.0)\n",
            "Requirement already satisfied: jsonschema-specifications>=2023.03.6 in /usr/local/lib/python3.11/dist-packages (from jsonschema>=3.0->altair<6,>=4.0->streamlit) (2025.4.1)\n",
            "Requirement already satisfied: referencing>=0.28.4 in /usr/local/lib/python3.11/dist-packages (from jsonschema>=3.0->altair<6,>=4.0->streamlit) (0.36.2)\n",
            "Requirement already satisfied: rpds-py>=0.7.1 in /usr/local/lib/python3.11/dist-packages (from jsonschema>=3.0->altair<6,>=4.0->streamlit) (0.24.0)\n",
            "Requirement already satisfied: six>=1.5 in /usr/local/lib/python3.11/dist-packages (from python-dateutil>=2.8.2->pandas<3,>=1.4.0->streamlit) (1.17.0)\n",
            "Downloading pyngrok-7.2.8-py3-none-any.whl (25 kB)\n",
            "Installing collected packages: pyngrok\n",
            "Successfully installed pyngrok-7.2.8\n"
          ]
        }
      ]
    },
    {
      "cell_type": "code",
      "source": [
        "import os\n",
        "from pyngrok import ngrok\n",
        "\n",
        "# Start Streamlit app in background\n",
        "os.system(\"streamlit run /content/drive/MyDrive/MathAgentProject/app.py &\")\n"
      ],
      "metadata": {
        "colab": {
          "base_uri": "https://localhost:8080/"
        },
        "id": "RXTKeMQDYydt",
        "outputId": "2ab62ab6-675d-4c06-b5ea-54fef5e6d05b"
      },
      "execution_count": null,
      "outputs": [
        {
          "output_type": "execute_result",
          "data": {
            "text/plain": [
              "0"
            ]
          },
          "metadata": {},
          "execution_count": 24
        }
      ]
    },
    {
      "cell_type": "code",
      "source": [
        "# Install pyngrok if not installed\n",
        "!pip install pyngrok --quiet\n",
        "\n",
        "from pyngrok import ngrok\n",
        "import os\n",
        "import time\n",
        "\n",
        "# Your ngrok authtoken (replace with your actual token)\n",
        "NGROK_AUTH_TOKEN = \"2xBGlJiSu83s4XWirNiOWR2MJLM_3uSyrZKGVqrGoytVRWrZg\"\n",
        "\n",
        "# Authenticate ngrok with your authtoken\n",
        "!ngrok authtoken {NGROK_AUTH_TOKEN}\n",
        "\n",
        "# Kill any existing ngrok tunnels (optional cleanup)\n",
        "!killall ngrok > /dev/null 2>&1\n",
        "\n",
        "# Start your Streamlit app in the background\n",
        "# Make sure your app.py path is correct\n",
        "os.system(\"streamlit run /content/drive/MyDrive/MathAgentProject/app.py &\")\n",
        "\n",
        "time.sleep(5)  # Wait a few seconds for Streamlit app to start\n",
        "\n",
        "# Open a public tunnel on the default Streamlit port 8501\n",
        "public_url = ngrok.connect(8501).public_url\n",
        "\n",
        "print(f\"🚀 Your Streamlit app is live at: {public_url}\")\n",
        "print(\"Open this URL in a new browser tab to access your app.\")\n"
      ],
      "metadata": {
        "colab": {
          "base_uri": "https://localhost:8080/"
        },
        "id": "zFbW6yO-ZJVu",
        "outputId": "48cdf355-c81a-4982-f789-e0a85bcd332c"
      },
      "execution_count": null,
      "outputs": [
        {
          "output_type": "stream",
          "name": "stdout",
          "text": [
            "Authtoken saved to configuration file: /root/.config/ngrok/ngrok.yml\n",
            "🚀 Your Streamlit app is live at: https://0d9f-35-245-175-37.ngrok-free.app\n",
            "Open this URL in a new browser tab to access your app.\n"
          ]
        }
      ]
    }
  ],
  "metadata": {
    "colab": {
      "provenance": [],
      "mount_file_id": "1Q7AuJnhAoqSV8RGANLntCInP00FjJWJ2",
      "authorship_tag": "ABX9TyOTHIWjk2BmTHVvuiIywuXH",
      "include_colab_link": true
    },
    "kernelspec": {
      "display_name": "Python 3",
      "name": "python3"
    },
    "language_info": {
      "name": "python"
    }
  },
  "nbformat": 4,
  "nbformat_minor": 0
}